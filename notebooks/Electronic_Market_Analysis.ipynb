{
 "cells": [
  {
   "cell_type": "markdown",
   "id": "f302ad81",
   "metadata": {},
   "source": [
    "# Electronic Market E-Commerce Data Analysis\n",
    "\n",
    "## 1. Business Context & Goals\n",
    "\n",
    "Electronic Market is a digital-first e-commerce platform focused on consumer electronics. Operating since 2019, it faced a significant revenue boom during the COVID-19 pandemic, followed by a decline as physical retail rebounded in 2021. This analysis aims to uncover patterns in revenue, customer behavior, product performance, and regional dynamics to deliver actionable recommendations for business optimization.\n",
    "\n",
    "## 2. Data Loading & Preview"
   ]
  },
  {
   "cell_type": "markdown",
   "id": "9e452417",
   "metadata": {},
   "source": [
    "## Executive KPI Summary\n",
    "\n",
    "The following table summarizes key business metrics extracted from the Electronic Market dataset:"
   ]
  },
  {
   "cell_type": "code",
   "execution_count": null,
   "id": "ddf84ad2",
   "metadata": {},
   "outputs": [],
   "source": [
    "import pandas as pd\n",
    "\n",
    "# Precomputed KPI values\n",
    "summary_df = pd.DataFrame({\n",
    "    \"Metric\": [\n",
    "        \"Total Revenue (2021)\",\n",
    "        \"Repeat Buyer Rate\",\n",
    "        \"Top Product Revenue %\",\n",
    "        \"Avg. Time to Ship (Corrected)\",\n",
    "        \"Regional Leader\"\n",
    "    ],\n",
    "    \"Value\": [\n",
    "        \"$1,240,539\",\n",
    "        \"22.5%\",\n",
    "        \"12.8%\",\n",
    "        \"2.0 days\",\n",
    "        \"EMEA / 36.4%\"\n",
    "    ]\n",
    "})\n",
    "\n",
    "display(summary_df)"
   ]
  },
  {
   "cell_type": "code",
   "execution_count": null,
   "id": "7af11c02",
   "metadata": {},
   "outputs": [],
   "source": [
    "import pandas as pd\n",
    "import matplotlib.pyplot as plt\n",
    "import seaborn as sns\n",
    "\n",
    "plt.style.use('seaborn-v0_8-deep')\n",
    "sns.set_theme()\n",
    "\n",
    "# Load Excel file\n",
    "xls = pd.ExcelFile(\"electronic_market_dataset.xlsx\")\n",
    "orders_raw = xls.parse(\"orders_cleaned\")\n",
    "orders = orders_raw[1:].copy()\n",
    "orders.columns = orders_raw.iloc[0]\n",
    "orders = orders.dropna(subset=[\"USD_PRICE\"])\n",
    "\n",
    "# Preview loaded data\n",
    "display(orders.head())"
   ]
  },
  {
   "cell_type": "markdown",
   "id": "a33f66b1",
   "metadata": {},
   "source": [
    "## 3. Data Cleaning & Preparation"
   ]
  },
  {
   "cell_type": "code",
   "execution_count": null,
   "id": "a8028f77",
   "metadata": {},
   "outputs": [],
   "source": [
    "# Type casting and formatting\n",
    "orders[\"USD_PRICE\"] = orders[\"USD_PRICE\"].astype(float)\n",
    "orders[\"PURCHASE_TS_CLEANED\"] = pd.to_datetime(orders[\"PURCHASE_TS_CLEANED\"], errors='coerce')\n",
    "orders[\"PURCHASE_YEAR\"] = pd.to_numeric(orders[\"PURCHASE_YEAR\"], errors='coerce').astype(\"Int64\")\n",
    "orders[\"PURCHASE_MONTH\"] = pd.to_numeric(orders[\"PURCHASE_MONTH\"], errors='coerce').astype(\"Int64\")\n",
    "orders = orders.dropna(subset=[\"PURCHASE_YEAR\", \"PURCHASE_MONTH\"])\n",
    "\n",
    "# Clean marketing channels\n",
    "orders[\"MARKETING_CHANNEL_CLEANED\"] = orders[\"MARKETING_CHANNEL_CLEANED\"].str.lower()\n",
    "\n",
    "# Extract Year-Month\n",
    "orders[\"Year-Month\"] = orders[\"PURCHASE_TS_CLEANED\"].dt.to_period(\"M\").astype(str)\n",
    "\n",
    "# Quick summary\n",
    "print(orders.describe(include='all'))"
   ]
  },
  {
   "cell_type": "markdown",
   "id": "d7cf6e7c",
   "metadata": {},
   "source": [
    "## 4. Exploratory Data Analysis (EDA)\n",
    "### Monthly Sales Trend"
   ]
  },
  {
   "cell_type": "code",
   "execution_count": null,
   "id": "3a7489a0",
   "metadata": {},
   "outputs": [],
   "source": [
    "monthly_revenue = orders.groupby(\"Year-Month\")[\"USD_PRICE\"].sum().reset_index()\n",
    "plt.figure(figsize=(12, 6))\n",
    "sns.lineplot(data=monthly_revenue, x=\"Year-Month\", y=\"USD_PRICE\", marker=\"o\")\n",
    "plt.title(\"Monthly Sales Trend (USD)\")\n",
    "plt.xticks(rotation=45)\n",
    "plt.grid(True)\n",
    "plt.tight_layout()\n",
    "plt.show()"
   ]
  },
  {
   "cell_type": "markdown",
   "id": "c8fd750e",
   "metadata": {},
   "source": [
    "*Dashboard: Monthly revenue patterns with seasonal peaks and slumps visualized.*\n",
    "\n",
    "### Annual Growth Rates"
   ]
  },
  {
   "cell_type": "code",
   "execution_count": null,
   "id": "40d59974",
   "metadata": {},
   "outputs": [],
   "source": [
    "annual_revenue = orders.groupby(\"PURCHASE_YEAR\")[\"USD_PRICE\"].sum().reset_index()\n",
    "annual_revenue[\"Growth Rate (%)\"] = annual_revenue[\"USD_PRICE\"].pct_change() * 100\n",
    "plt.figure(figsize=(8, 5))\n",
    "sns.barplot(data=annual_revenue, x=\"PURCHASE_YEAR\", y=\"Growth Rate (%)\", palette=\"gray\")\n",
    "plt.title(\"Annual Revenue Growth Rate\")\n",
    "plt.grid(axis='y')\n",
    "plt.tight_layout()\n",
    "plt.show()"
   ]
  },
  {
   "cell_type": "markdown",
   "id": "8cb1ae9f",
   "metadata": {},
   "source": [
    "*Dashboard: Percentage growth visualization year-over-year to assess volatility.*\n",
    "\n",
    "## 5. Regional Sales Insights"
   ]
  },
  {
   "cell_type": "code",
   "execution_count": null,
   "id": "d1fe9aeb",
   "metadata": {},
   "outputs": [],
   "source": [
    "regional_sales = orders.groupby(\"REGION\")[\"USD_PRICE\"].sum().reset_index().sort_values(by=\"USD_PRICE\", ascending=False)\n",
    "plt.figure(figsize=(8, 5))\n",
    "sns.barplot(data=regional_sales, x=\"USD_PRICE\", y=\"REGION\", palette=\"gray\")\n",
    "plt.title(\"Sales by Region\")\n",
    "plt.xlabel(\"Total Revenue ($)\")\n",
    "plt.tight_layout()\n",
    "plt.show()"
   ]
  },
  {
   "cell_type": "markdown",
   "id": "c721afa9",
   "metadata": {},
   "source": [
    "*Dashboard: Regional contribution comparison to guide geo-targeting efforts.*\n",
    "\n",
    "## 6. Platform & Marketing Channel Distribution"
   ]
  },
  {
   "cell_type": "code",
   "execution_count": null,
   "id": "ae6f2694",
   "metadata": {},
   "outputs": [],
   "source": [
    "# Platform\n",
    "platform_stats = orders[\"PURCHASE_PLATFORM\"].value_counts().reset_index()\n",
    "platform_stats.columns = [\"Platform\", \"Number of Orders\"]\n",
    "\n",
    "plt.figure(figsize=(6, 5))\n",
    "sns.barplot(data=platform_stats, x=\"Number of Orders\", y=\"Platform\", palette=\"gray\")\n",
    "plt.title(\"Sales by Platform\")\n",
    "plt.tight_layout()\n",
    "plt.grid(axis=\"x\")\n",
    "plt.show()"
   ]
  },
  {
   "cell_type": "markdown",
   "id": "26dda348",
   "metadata": {},
   "source": [
    "*Dashboard: Platform performance revealing desktop vs mobile dominance.*"
   ]
  },
  {
   "cell_type": "code",
   "execution_count": null,
   "id": "7fab57d9",
   "metadata": {},
   "outputs": [],
   "source": [
    "# Marketing Channel\n",
    "channel_stats = orders[\"MARKETING_CHANNEL_CLEANED\"].value_counts().reset_index()\n",
    "channel_stats.columns = [\"Marketing Channel\", \"Number of Orders\"]\n",
    "\n",
    "plt.figure(figsize=(6, 5))\n",
    "sns.barplot(data=channel_stats, x=\"Number of Orders\", y=\"Marketing Channel\", palette=\"gray\")\n",
    "plt.title(\"Sales by Marketing Channel\")\n",
    "plt.tight_layout()\n",
    "plt.grid(axis=\"x\")\n",
    "plt.show()"
   ]
  },
  {
   "cell_type": "markdown",
   "id": "5d02db87",
   "metadata": {},
   "source": [
    "*Dashboard: Marketing effectiveness by channel, highlighting overdependence.*\n",
    "\n",
    "## 7. Customer Behavior Analysis\n",
    "### Repeat vs. One-Time Buyers"
   ]
  },
  {
   "cell_type": "code",
   "execution_count": null,
   "id": "10ed61f0",
   "metadata": {},
   "outputs": [],
   "source": [
    "repeat_customers = orders.groupby(\"USER_ID\")[\"ORDER_ID\"].count().reset_index(name=\"Order Count\")\n",
    "repeat_customers[\"Type\"] = repeat_customers[\"Order Count\"].apply(lambda x: \"Repeat Buyer\" if x > 1 else \"One-Time Buyer\")\n",
    "repeat_summary = repeat_customers[\"Type\"].value_counts().reset_index()\n",
    "repeat_summary.columns = [\"Type\", \"Number of Customers\"]\n",
    "\n",
    "plt.figure(figsize=(6, 5))\n",
    "sns.barplot(data=repeat_summary, x=\"Type\", y=\"Number of Customers\", palette=\"gray\")\n",
    "plt.title(\"Customer Type Distribution\")\n",
    "plt.tight_layout()\n",
    "plt.grid(axis='y')\n",
    "plt.show()"
   ]
  },
  {
   "cell_type": "markdown",
   "id": "7ae4b11e",
   "metadata": {},
   "source": [
    "*Dashboard: Retention funnel view — clear need for loyalty programs.*\n",
    "\n",
    "### Yearly Customer Growth"
   ]
  },
  {
   "cell_type": "code",
   "execution_count": null,
   "id": "f1a70a5c",
   "metadata": {},
   "outputs": [],
   "source": [
    "customer_growth = orders.groupby(\"PURCHASE_YEAR\")[\"USER_ID\"].nunique().reset_index()\n",
    "customer_growth.columns = [\"Year\", \"New Customers\"]\n",
    "\n",
    "plt.figure(figsize=(8, 5))\n",
    "sns.lineplot(data=customer_growth, x=\"Year\", y=\"New Customers\", marker=\"o\")\n",
    "plt.title(\"Yearly Customer Growth\")\n",
    "plt.grid(True)\n",
    "plt.tight_layout()\n",
    "plt.show()"
   ]
  },
  {
   "cell_type": "markdown",
   "id": "23ed96ac",
   "metadata": {},
   "source": [
    "*Dashboard: Acquisition trend indicating momentum loss post-pandemic.*\n",
    "\n",
    "## 8. Product-Level Insights"
   ]
  },
  {
   "cell_type": "code",
   "execution_count": null,
   "id": "1475e16b",
   "metadata": {},
   "outputs": [],
   "source": [
    "top_products = orders.groupby(\"PRODUCT_NAME_CLEANED\")[\"USD_PRICE\"].agg(['sum', 'count']).reset_index()\n",
    "top_products.columns = [\"Product\", \"Total Revenue\", \"Order Count\"]\n",
    "top_products = top_products.sort_values(by=\"Total Revenue\", ascending=False).head(6)\n",
    "\n",
    "plt.figure(figsize=(10, 6))\n",
    "sns.barplot(data=top_products, x=\"Total Revenue\", y=\"Product\", palette=\"gray\")\n",
    "plt.title(\"Top Product Revenue Contribution\")\n",
    "plt.tight_layout()\n",
    "plt.grid(axis='x')\n",
    "plt.show()"
   ]
  },
  {
   "cell_type": "markdown",
   "id": "c25ed3c0",
   "metadata": {},
   "source": [
    "## 9. Strategic Business Recommendations\n",
    "\n",
    "- **Diversify Product Portfolio**: Reduce dependency on top 3 items by bundling and launching mid-tier accessories.\n",
    "- **Improve Mobile Experience**: Drive engagement and sales via mobile-first improvements.\n",
    "- **Customer Retention**: Launch loyalty tiers and personalized post-purchase offers.\n",
    "- **Regional Activation**: Invest in localized marketing strategies for APAC and LATAM.\n",
    "- **Channel Expansion**: Introduce social/email campaigns to reduce reliance on direct traffic."
   ]
  },
  {
   "cell_type": "markdown",
   "id": "20e95f23",
   "metadata": {},
   "source": [
    "## 10. Limitations and Caveats\n",
    "\n",
    "While this analysis provides actionable insights, it is important to note the following limitations of the dataset and assumptions made:\n",
    "\n",
    "- **No Returns Data**: The dataset does not include information about product returns, refunds, or cancellations.\n",
    "- **No Cost Data**: There is no record of cost of goods sold (COGS), marketing spend, or shipping cost, limiting profitability analysis.\n",
    "- **No Marketing Attribution**: Marketing channels are present but lack campaign identifiers or spend data.\n",
    "- **No User Demographics**: Customer profiles do not include location, age, gender, or device metadata.\n",
    "- **Assumes All Orders Were Fulfilled**: No data on failed, late, or incomplete orders.\n",
    "- **Static Snapshot**: The dataset appears to be historical and does not reflect real-time or continuous data updates.\n",
    "- **Missing Data**: Some fields have missing or inconsistent entries (e.g., time to ship, platform).\n",
    "\n",
    "These caveats should be considered when interpreting trends and making decisions based on this analysis."
   ]
  }
 ],
 "metadata": {
  "kernelspec": {
   "display_name": "Python 3",
   "name": "python3"
  },
  "language_info": {
   "name": "python"
  }
 },
 "nbformat": 4,
 "nbformat_minor": 5
}
